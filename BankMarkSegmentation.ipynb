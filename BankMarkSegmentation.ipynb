{
 "cells": [
  {
   "cell_type": "code",
   "execution_count": 1,
   "metadata": {},
   "outputs": [],
   "source": [
    "import pandas as pd\n",
    "import numpy as np\n",
    "data=pd.read_csv('bankmarketingcamp.csv')"
   ]
  },
  {
   "cell_type": "code",
   "execution_count": 2,
   "metadata": {},
   "outputs": [
    {
     "data": {
      "text/plain": [
       "age           int64\n",
       "job          object\n",
       "marital      object\n",
       "education    object\n",
       "default      object\n",
       "balance       int64\n",
       "housing      object\n",
       "loan         object\n",
       "contact      object\n",
       "day           int64\n",
       "month        object\n",
       "duration      int64\n",
       "campaign      int64\n",
       "pdays         int64\n",
       "previous      int64\n",
       "poutcome     object\n",
       "y            object\n",
       "dtype: object"
      ]
     },
     "execution_count": 2,
     "metadata": {},
     "output_type": "execute_result"
    }
   ],
   "source": [
    "data.dtypes"
   ]
  },
  {
   "cell_type": "code",
   "execution_count": 3,
   "metadata": {},
   "outputs": [
    {
     "data": {
      "text/html": [
       "<div>\n",
       "<style scoped>\n",
       "    .dataframe tbody tr th:only-of-type {\n",
       "        vertical-align: middle;\n",
       "    }\n",
       "\n",
       "    .dataframe tbody tr th {\n",
       "        vertical-align: top;\n",
       "    }\n",
       "\n",
       "    .dataframe thead th {\n",
       "        text-align: right;\n",
       "    }\n",
       "</style>\n",
       "<table border=\"1\" class=\"dataframe\">\n",
       "  <thead>\n",
       "    <tr style=\"text-align: right;\">\n",
       "      <th></th>\n",
       "      <th>age</th>\n",
       "      <th>job</th>\n",
       "      <th>marital</th>\n",
       "      <th>education</th>\n",
       "      <th>default</th>\n",
       "      <th>balance</th>\n",
       "      <th>housing</th>\n",
       "      <th>loan</th>\n",
       "      <th>contact</th>\n",
       "      <th>day</th>\n",
       "      <th>month</th>\n",
       "      <th>duration</th>\n",
       "      <th>campaign</th>\n",
       "      <th>pdays</th>\n",
       "      <th>previous</th>\n",
       "      <th>poutcome</th>\n",
       "      <th>y</th>\n",
       "    </tr>\n",
       "  </thead>\n",
       "  <tbody>\n",
       "    <tr>\n",
       "      <th>0</th>\n",
       "      <td>58</td>\n",
       "      <td>management</td>\n",
       "      <td>married</td>\n",
       "      <td>tertiary</td>\n",
       "      <td>no</td>\n",
       "      <td>2143</td>\n",
       "      <td>yes</td>\n",
       "      <td>no</td>\n",
       "      <td>unknown</td>\n",
       "      <td>5</td>\n",
       "      <td>may</td>\n",
       "      <td>261</td>\n",
       "      <td>1</td>\n",
       "      <td>-1</td>\n",
       "      <td>0</td>\n",
       "      <td>unknown</td>\n",
       "      <td>no</td>\n",
       "    </tr>\n",
       "    <tr>\n",
       "      <th>1</th>\n",
       "      <td>44</td>\n",
       "      <td>technician</td>\n",
       "      <td>single</td>\n",
       "      <td>secondary</td>\n",
       "      <td>no</td>\n",
       "      <td>29</td>\n",
       "      <td>yes</td>\n",
       "      <td>no</td>\n",
       "      <td>unknown</td>\n",
       "      <td>5</td>\n",
       "      <td>may</td>\n",
       "      <td>151</td>\n",
       "      <td>1</td>\n",
       "      <td>-1</td>\n",
       "      <td>0</td>\n",
       "      <td>unknown</td>\n",
       "      <td>no</td>\n",
       "    </tr>\n",
       "    <tr>\n",
       "      <th>2</th>\n",
       "      <td>33</td>\n",
       "      <td>entrepreneur</td>\n",
       "      <td>married</td>\n",
       "      <td>secondary</td>\n",
       "      <td>no</td>\n",
       "      <td>2</td>\n",
       "      <td>yes</td>\n",
       "      <td>yes</td>\n",
       "      <td>unknown</td>\n",
       "      <td>5</td>\n",
       "      <td>may</td>\n",
       "      <td>76</td>\n",
       "      <td>1</td>\n",
       "      <td>-1</td>\n",
       "      <td>0</td>\n",
       "      <td>unknown</td>\n",
       "      <td>no</td>\n",
       "    </tr>\n",
       "    <tr>\n",
       "      <th>3</th>\n",
       "      <td>47</td>\n",
       "      <td>blue-collar</td>\n",
       "      <td>married</td>\n",
       "      <td>unknown</td>\n",
       "      <td>no</td>\n",
       "      <td>1506</td>\n",
       "      <td>yes</td>\n",
       "      <td>no</td>\n",
       "      <td>unknown</td>\n",
       "      <td>5</td>\n",
       "      <td>may</td>\n",
       "      <td>92</td>\n",
       "      <td>1</td>\n",
       "      <td>-1</td>\n",
       "      <td>0</td>\n",
       "      <td>unknown</td>\n",
       "      <td>no</td>\n",
       "    </tr>\n",
       "    <tr>\n",
       "      <th>4</th>\n",
       "      <td>33</td>\n",
       "      <td>unknown</td>\n",
       "      <td>single</td>\n",
       "      <td>unknown</td>\n",
       "      <td>no</td>\n",
       "      <td>1</td>\n",
       "      <td>no</td>\n",
       "      <td>no</td>\n",
       "      <td>unknown</td>\n",
       "      <td>5</td>\n",
       "      <td>may</td>\n",
       "      <td>198</td>\n",
       "      <td>1</td>\n",
       "      <td>-1</td>\n",
       "      <td>0</td>\n",
       "      <td>unknown</td>\n",
       "      <td>no</td>\n",
       "    </tr>\n",
       "    <tr>\n",
       "      <th>...</th>\n",
       "      <td>...</td>\n",
       "      <td>...</td>\n",
       "      <td>...</td>\n",
       "      <td>...</td>\n",
       "      <td>...</td>\n",
       "      <td>...</td>\n",
       "      <td>...</td>\n",
       "      <td>...</td>\n",
       "      <td>...</td>\n",
       "      <td>...</td>\n",
       "      <td>...</td>\n",
       "      <td>...</td>\n",
       "      <td>...</td>\n",
       "      <td>...</td>\n",
       "      <td>...</td>\n",
       "      <td>...</td>\n",
       "      <td>...</td>\n",
       "    </tr>\n",
       "    <tr>\n",
       "      <th>45206</th>\n",
       "      <td>51</td>\n",
       "      <td>technician</td>\n",
       "      <td>married</td>\n",
       "      <td>tertiary</td>\n",
       "      <td>no</td>\n",
       "      <td>825</td>\n",
       "      <td>no</td>\n",
       "      <td>no</td>\n",
       "      <td>cellular</td>\n",
       "      <td>17</td>\n",
       "      <td>nov</td>\n",
       "      <td>977</td>\n",
       "      <td>3</td>\n",
       "      <td>-1</td>\n",
       "      <td>0</td>\n",
       "      <td>unknown</td>\n",
       "      <td>yes</td>\n",
       "    </tr>\n",
       "    <tr>\n",
       "      <th>45207</th>\n",
       "      <td>71</td>\n",
       "      <td>retired</td>\n",
       "      <td>divorced</td>\n",
       "      <td>primary</td>\n",
       "      <td>no</td>\n",
       "      <td>1729</td>\n",
       "      <td>no</td>\n",
       "      <td>no</td>\n",
       "      <td>cellular</td>\n",
       "      <td>17</td>\n",
       "      <td>nov</td>\n",
       "      <td>456</td>\n",
       "      <td>2</td>\n",
       "      <td>-1</td>\n",
       "      <td>0</td>\n",
       "      <td>unknown</td>\n",
       "      <td>yes</td>\n",
       "    </tr>\n",
       "    <tr>\n",
       "      <th>45208</th>\n",
       "      <td>72</td>\n",
       "      <td>retired</td>\n",
       "      <td>married</td>\n",
       "      <td>secondary</td>\n",
       "      <td>no</td>\n",
       "      <td>5715</td>\n",
       "      <td>no</td>\n",
       "      <td>no</td>\n",
       "      <td>cellular</td>\n",
       "      <td>17</td>\n",
       "      <td>nov</td>\n",
       "      <td>1127</td>\n",
       "      <td>5</td>\n",
       "      <td>184</td>\n",
       "      <td>3</td>\n",
       "      <td>success</td>\n",
       "      <td>yes</td>\n",
       "    </tr>\n",
       "    <tr>\n",
       "      <th>45209</th>\n",
       "      <td>57</td>\n",
       "      <td>blue-collar</td>\n",
       "      <td>married</td>\n",
       "      <td>secondary</td>\n",
       "      <td>no</td>\n",
       "      <td>668</td>\n",
       "      <td>no</td>\n",
       "      <td>no</td>\n",
       "      <td>telephone</td>\n",
       "      <td>17</td>\n",
       "      <td>nov</td>\n",
       "      <td>508</td>\n",
       "      <td>4</td>\n",
       "      <td>-1</td>\n",
       "      <td>0</td>\n",
       "      <td>unknown</td>\n",
       "      <td>no</td>\n",
       "    </tr>\n",
       "    <tr>\n",
       "      <th>45210</th>\n",
       "      <td>37</td>\n",
       "      <td>entrepreneur</td>\n",
       "      <td>married</td>\n",
       "      <td>secondary</td>\n",
       "      <td>no</td>\n",
       "      <td>2971</td>\n",
       "      <td>no</td>\n",
       "      <td>no</td>\n",
       "      <td>cellular</td>\n",
       "      <td>17</td>\n",
       "      <td>nov</td>\n",
       "      <td>361</td>\n",
       "      <td>2</td>\n",
       "      <td>188</td>\n",
       "      <td>11</td>\n",
       "      <td>other</td>\n",
       "      <td>no</td>\n",
       "    </tr>\n",
       "  </tbody>\n",
       "</table>\n",
       "<p>45211 rows × 17 columns</p>\n",
       "</div>"
      ],
      "text/plain": [
       "       age           job   marital  education default  balance housing loan  \\\n",
       "0       58    management   married   tertiary      no     2143     yes   no   \n",
       "1       44    technician    single  secondary      no       29     yes   no   \n",
       "2       33  entrepreneur   married  secondary      no        2     yes  yes   \n",
       "3       47   blue-collar   married    unknown      no     1506     yes   no   \n",
       "4       33       unknown    single    unknown      no        1      no   no   \n",
       "...    ...           ...       ...        ...     ...      ...     ...  ...   \n",
       "45206   51    technician   married   tertiary      no      825      no   no   \n",
       "45207   71       retired  divorced    primary      no     1729      no   no   \n",
       "45208   72       retired   married  secondary      no     5715      no   no   \n",
       "45209   57   blue-collar   married  secondary      no      668      no   no   \n",
       "45210   37  entrepreneur   married  secondary      no     2971      no   no   \n",
       "\n",
       "         contact  day month  duration  campaign  pdays  previous poutcome    y  \n",
       "0        unknown    5   may       261         1     -1         0  unknown   no  \n",
       "1        unknown    5   may       151         1     -1         0  unknown   no  \n",
       "2        unknown    5   may        76         1     -1         0  unknown   no  \n",
       "3        unknown    5   may        92         1     -1         0  unknown   no  \n",
       "4        unknown    5   may       198         1     -1         0  unknown   no  \n",
       "...          ...  ...   ...       ...       ...    ...       ...      ...  ...  \n",
       "45206   cellular   17   nov       977         3     -1         0  unknown  yes  \n",
       "45207   cellular   17   nov       456         2     -1         0  unknown  yes  \n",
       "45208   cellular   17   nov      1127         5    184         3  success  yes  \n",
       "45209  telephone   17   nov       508         4     -1         0  unknown   no  \n",
       "45210   cellular   17   nov       361         2    188        11    other   no  \n",
       "\n",
       "[45211 rows x 17 columns]"
      ]
     },
     "execution_count": 3,
     "metadata": {},
     "output_type": "execute_result"
    }
   ],
   "source": [
    "data"
   ]
  },
  {
   "cell_type": "code",
   "execution_count": null,
   "metadata": {},
   "outputs": [],
   "source": []
  },
  {
   "cell_type": "code",
   "execution_count": 4,
   "metadata": {},
   "outputs": [
    {
     "name": "stdout",
     "output_type": "stream",
     "text": [
      "age          0\n",
      "job          0\n",
      "marital      0\n",
      "education    0\n",
      "default      0\n",
      "balance      0\n",
      "housing      0\n",
      "loan         0\n",
      "contact      0\n",
      "day          0\n",
      "month        0\n",
      "duration     0\n",
      "campaign     0\n",
      "pdays        0\n",
      "previous     0\n",
      "poutcome     0\n",
      "y            0\n",
      "dtype: int64\n"
     ]
    }
   ],
   "source": [
    "print(data.isnull().sum())"
   ]
  },
  {
   "cell_type": "code",
   "execution_count": 5,
   "metadata": {},
   "outputs": [
    {
     "data": {
      "text/plain": [
       "no     39922\n",
       "yes     5289\n",
       "Name: y, dtype: int64"
      ]
     },
     "execution_count": 5,
     "metadata": {},
     "output_type": "execute_result"
    }
   ],
   "source": [
    "data['y'].value_counts()"
   ]
  },
  {
   "cell_type": "code",
   "execution_count": 6,
   "metadata": {},
   "outputs": [
    {
     "name": "stdout",
     "output_type": "stream",
     "text": [
      "Before removing Outliers\n"
     ]
    },
    {
     "data": {
      "image/png": "[encoded data removed]",
      "text/plain": [
       "<Figure size 432x288 with 1 Axes>"
      ]
     },
     "metadata": {},
     "output_type": "display_data"
    }
   ],
   "source": [
    "import matplotlib.pyplot as plt\n",
    "color = '#81d1ec','#ffa500'\n",
    "labels = 'Subscribed to Term Deposit', 'Did not Subscribe to Term Deposit'\n",
    "sizes = [5289, 39922]\n",
    "#explode = (0, 0.1, 0, 0)  # only \"explode\" the 2nd slice (i.e. 'Hogs')\n",
    "print(\"Before removing Outliers\")\n",
    "fig1, ax1 = plt.subplots()\n",
    "ax1.pie( sizes, labels=labels,colors=color, autopct='%1.1f%%',\n",
    "        shadow=False, startangle=90)\n",
    "ax1.axis('equal')  # Equal aspect ratio ensures that pie is drawn as a circle.\n",
    "\n",
    "plt.show()\n"
   ]
  },
  {
   "cell_type": "code",
   "execution_count": 7,
   "metadata": {},
   "outputs": [
    {
     "data": {
      "text/plain": [
       "Text(0.5, 0, 'Frequency')"
      ]
     },
     "execution_count": 7,
     "metadata": {},
     "output_type": "execute_result"
    },
    {
     "data": {
      "image/png": "[encoded data removed]",
      "text/plain": [
       "<Figure size 432x288 with 1 Axes>"
      ]
     },
     "metadata": {
      "needs_background": "light"
     },
     "output_type": "display_data"
    }
   ],
   "source": [
    "data['job'].value_counts().sort_index().plot.barh(color=\"#ffa500\")\n",
    "plt.ylabel(\"Job\", fontsize=12)\n",
    "plt.xlabel(\"Frequency\", fontsize=12)"
   ]
  },
  {
   "cell_type": "code",
   "execution_count": 8,
   "metadata": {},
   "outputs": [
    {
     "data": {
      "text/plain": [
       "Text(0, 0.5, 'Frequency')"
      ]
     },
     "execution_count": 8,
     "metadata": {},
     "output_type": "execute_result"
    },
    {
     "data": {
      "image/png": "[encoded data removed]",
      "text/plain": [
       "<Figure size 432x288 with 1 Axes>"
      ]
     },
     "metadata": {
      "needs_background": "light"
     },
     "output_type": "display_data"
    }
   ],
   "source": [
    "data['age'].plot.hist()\n",
    "plt.xlabel('Age', fontsize=12)\n",
    "plt.ylabel('Frequency',fontsize=12)"
   ]
  },
  {
   "cell_type": "code",
   "execution_count": 9,
   "metadata": {},
   "outputs": [
    {
     "data": {
      "text/plain": [
       "Text(0, 0.5, 'Frequency')"
      ]
     },
     "execution_count": 9,
     "metadata": {},
     "output_type": "execute_result"
    },
    {
     "data": {
      "image/png": "[encoded data removed]",
      "text/plain": [
       "<Figure size 432x288 with 1 Axes>"
      ]
     },
     "metadata": {
      "needs_background": "light"
     },
     "output_type": "display_data"
    }
   ],
   "source": [
    "data['duration'].plot.hist(color=\"#ffa500\")\n",
    "plt.xlabel('Duration', fontsize=12)\n",
    "plt.ylabel('Frequency',fontsize=12)"
   ]
  },
  {
   "cell_type": "code",
   "execution_count": 10,
   "metadata": {},
   "outputs": [
    {
     "data": {
      "image/png": "[encoded data removed]",
      "text/plain": [
       "<Figure size 1080x1440 with 14 Axes>"
      ]
     },
     "metadata": {
      "needs_background": "light"
     },
     "output_type": "display_data"
    }
   ],
   "source": [
    "data.plot(kind=\"box\",subplots=True,layout=(7,2),figsize=(15,20));"
   ]
  },
  {
   "cell_type": "code",
   "execution_count": 11,
   "metadata": {},
   "outputs": [
    {
     "name": "stdout",
     "output_type": "stream",
     "text": [
      "(45211, 16)\n",
      "(45211,)\n"
     ]
    }
   ],
   "source": [
    "X = data.drop(['y'], axis = 1) \n",
    "Y = data['y'] \n",
    "print(X.shape) \n",
    "print(Y.shape) "
   ]
  },
  {
   "cell_type": "code",
   "execution_count": 12,
   "metadata": {},
   "outputs": [],
   "source": [
    "data_age_zscore = (X['age'] - X['age'].mean())/X['age'].std()"
   ]
  },
  {
   "cell_type": "code",
   "execution_count": 13,
   "metadata": {},
   "outputs": [
    {
     "name": "stdout",
     "output_type": "stream",
     "text": [
      "(array([28906, 29158, 29261, 29263, 29297, 29322, 29324, 29368, 29382,\n",
      "       29385, 29464, 29508, 29513, 29610, 29865, 29961, 30176, 30225,\n",
      "       30264, 30488, 30591, 30627, 30641, 30696, 30907, 30908, 31018,\n",
      "       31032, 31051, 31052, 31055, 31057, 31062, 31066, 31069, 31072,\n",
      "       31074, 31077, 31087, 31089, 31094, 31099, 31101, 31103, 31108,\n",
      "       31114, 31116, 31119, 31125, 31130, 31145, 31149, 31151, 31183,\n",
      "       31188, 31189, 31221, 31233, 31249, 31255, 31261, 31272, 31285,\n",
      "       31298, 31316, 31322, 31323, 31324, 31332, 31341, 31349, 31365,\n",
      "       31383, 31393, 31395, 31414, 31428, 31447, 31482, 31527, 31531,\n",
      "       31566, 31569, 31621, 31647, 31671, 31674, 31723, 31771, 31795,\n",
      "       31799, 31816, 31919, 32009, 32032, 32041, 32048, 32051, 32062,\n",
      "       32064, 32068, 32074, 32089, 32099, 32105, 32110, 32153, 32160,\n",
      "       32183, 32204, 32211, 32321, 32447, 32451, 32532, 32689, 32699,\n",
      "       32802, 32962, 33017, 33257, 33262, 33360, 33414, 33447, 33455,\n",
      "       33479, 33698, 33699, 33700, 33706, 33710, 33717, 33719, 33725,\n",
      "       33729, 33731, 33740, 33741, 33743, 33747, 33750, 33751, 33752,\n",
      "       33753, 33756, 33766, 33775, 33777, 33780, 33791, 33794, 33803,\n",
      "       33810, 33811, 33815, 33824, 33827, 33845, 33846, 33849, 33860,\n",
      "       34121, 34128, 34244, 34337, 34518, 40363, 40367, 40368, 40370,\n",
      "       40374, 40375, 40380, 40381, 40382, 40383, 40389, 40397, 40401,\n",
      "       40402, 40404, 40412, 40450, 40460, 40466, 40471, 40480, 40481,\n",
      "       40482, 40486, 40492, 40498, 40502, 40512, 40515, 40524, 40526,\n",
      "       40531, 40535, 40538, 40558, 40560, 40561, 40567, 40569, 40571,\n",
      "       40584, 40586, 40587, 40595, 40612, 40619, 40621, 40622, 40641,\n",
      "       40645, 40655, 40657, 40665, 40667, 40674, 40676, 40677, 40679,\n",
      "       40680, 40681, 40683, 40688, 40693, 40697, 40699, 40700, 40702,\n",
      "       40710, 40712, 40726, 40732, 40737, 40748, 40759, 40766, 40774,\n",
      "       40782, 40785, 40786, 40789, 40792, 40794, 40807, 40816, 40837,\n",
      "       40838, 40843, 40845, 40849, 40851, 40852, 40864, 40872, 40896,\n",
      "       40901, 40907, 40910, 40913, 40915, 40921, 40932, 40944, 40947,\n",
      "       40954, 40956, 40957, 40966, 40972, 40973, 40976, 40978, 40987,\n",
      "       40988, 40993, 41007, 41029, 41036, 41037, 41041, 41051, 41053,\n",
      "       41061, 41069, 41072, 41099, 41101, 41102, 41104, 41120, 41123,\n",
      "       41128, 41129, 41136, 41144, 41145, 41151, 41153, 41156, 41160,\n",
      "       41162, 41171, 41179, 41183, 41188, 41197, 41218, 41227, 41237,\n",
      "       41242, 41243, 41247, 41251, 41257, 41258, 41268, 41270, 41275,\n",
      "       41276, 41283, 41286, 41290, 41291, 41293, 41294, 41310, 41318,\n",
      "       41325, 41331, 41336, 41346, 41352, 41355, 41376, 41383, 41385,\n",
      "       41387, 41396, 41397, 41405, 41406, 41413, 41420, 41423, 41432,\n",
      "       41439, 41447, 41448, 41451, 41454, 41455, 41461, 41469, 41470,\n",
      "       41484, 41505, 41506, 41508, 41515, 41516, 41519, 41520, 41522,\n",
      "       41524, 41526, 41530, 41541, 41543, 41553, 41554, 41557, 41561,\n",
      "       41562, 41569, 41594, 41599, 41600, 41608, 41610, 41615, 41616,\n",
      "       41625, 41630, 41631, 41635, 41649, 41654, 41663, 41666, 41676,\n",
      "       41705, 41707, 41708, 41716, 41719, 41726, 41730, 41733, 41744,\n",
      "       41745, 41746, 41753, 41754, 41755, 41758, 41759, 41768, 41770,\n",
      "       41779, 41789, 41792, 41794, 41809, 41811, 41817, 41819, 41820,\n",
      "       41822, 41823, 41837, 41841, 41842, 41843, 41846, 41851, 41854,\n",
      "       41855, 41858, 41866, 41867, 41868, 41880, 41882, 41885, 41895,\n",
      "       41902, 41903, 41906, 41915, 41918, 41919, 41923, 41927, 41928,\n",
      "       41934, 41937, 41943, 41946, 41947, 41949, 41951, 41952, 41959,\n",
      "       41963, 41969, 41974, 41978, 41979, 41981, 41982, 41996, 41997,\n",
      "       42001, 42004, 42005, 42008, 42009, 42016, 42021, 42024, 42025,\n",
      "       42026, 42027, 42029, 42030, 42040, 42044, 42053, 42061, 42070,\n",
      "       42074, 42081, 42085, 42102, 42106, 42118, 42120, 42132, 42134,\n",
      "       42136, 42144, 42150, 42160, 42162, 42164, 42167, 42176, 42181,\n",
      "       42188, 42193, 42194, 42197, 42198, 42205, 42208, 42209, 42236,\n",
      "       42238, 42239, 42244, 42248, 42250, 42251, 42262, 42264, 42265,\n",
      "       42266, 42267, 42268, 42272, 42278, 42284, 42295, 42304, 42311,\n",
      "       42325, 42328, 42333, 42335, 42345, 42364, 42368, 42374, 42376,\n",
      "       42380, 42384, 42398, 42408, 42416, 42419, 42429, 42437, 42440,\n",
      "       42441, 42459, 42460, 42461, 42462, 42463, 42469, 42470, 42478,\n",
      "       42481, 42483, 42492, 42494, 42502, 42504, 42510, 42515, 42526,\n",
      "       42534, 42538, 42545, 42558, 42562, 42573, 42574, 42582, 42600,\n",
      "       42607, 42608, 42612, 42614, 42616, 42617, 42619, 42623, 42625,\n",
      "       42635, 42640, 42650, 42656, 42662, 42671, 42679, 42681, 42685,\n",
      "       42690, 42693, 42696, 42702, 42703, 42709, 42714, 42721, 42722,\n",
      "       42727, 42730, 42731, 42733, 42737, 42747, 42752, 42753, 42759,\n",
      "       42762, 42765, 42768, 42779, 42780, 42784, 42788, 42791, 42795,\n",
      "       42824, 42825, 42827, 42830, 42832, 42833, 42839, 42841, 42843,\n",
      "       42848, 42859, 42863, 42864, 42869, 42874, 42881, 42891, 42894,\n",
      "       42896, 42906, 42914, 42919, 42924, 42932, 42933, 42945, 42955,\n",
      "       42984, 42989, 42990, 42995, 42996, 43004, 43009, 43011, 43012,\n",
      "       43037, 43051, 43052, 43062, 43067, 43080, 43091, 43103, 43106,\n",
      "       43117, 43128, 43129, 43136, 43138, 43142, 43143, 43147, 43151,\n",
      "       43152, 43154, 43158, 43167, 43169, 43173, 43194, 43197, 43201,\n",
      "       43203, 43212, 43213, 43214, 43215, 43220, 43223, 43230, 43238,\n",
      "       43243, 43248, 43250, 43251, 43266, 43268, 43273, 43276, 43277,\n",
      "       43281, 43284, 43290, 43291, 43296, 43298, 43299, 43300, 43314,\n",
      "       43315, 43316, 43332, 43343, 43354, 43365, 43367, 43369, 43385,\n",
      "       43393, 43394, 43406, 43423, 43431, 43436, 43440, 43446, 43457,\n",
      "       43474, 43477, 43500, 43508, 43522, 43525, 43527, 43532, 43535,\n",
      "       43537, 43548, 43555, 43556, 43558, 43567, 43568, 43569, 43571,\n",
      "       43572, 43580, 43583, 43614, 43619, 43620, 43622, 43631, 43635,\n",
      "       43642, 43653, 43654, 43662, 43666, 43669, 43671, 43675, 43696,\n",
      "       43698, 43705, 43708, 43713, 43717, 43722, 43731, 43732, 43736,\n",
      "       43738, 43742, 43745, 43746, 43757, 43760, 43768, 43773, 43775,\n",
      "       43797, 43801, 43818, 43832, 43844, 43847, 43864, 43877, 43882,\n",
      "       43888, 43893, 43896, 43903, 43904, 43913, 43915, 43924, 43931,\n",
      "       43933, 43937, 43944, 43945, 43953, 43965, 43974, 44002, 44013,\n",
      "       44018, 44045, 44050, 44051, 44057, 44066, 44080, 44095, 44098,\n",
      "       44100, 44102, 44108, 44109, 44127, 44132, 44139, 44143, 44145,\n",
      "       44146, 44151, 44154, 44167, 44173, 44178, 44183, 44190, 44191,\n",
      "       44192, 44193, 44205, 44234, 44262, 44279, 44297, 44316, 44327,\n",
      "       44334, 44339, 44340, 44347, 44350, 44356, 44361, 44370, 44372,\n",
      "       44376, 44396, 44403, 44406, 44410, 44415, 44420, 44449, 44466,\n",
      "       44479, 44480, 44483, 44491, 44504, 44515, 44516, 44529, 44534,\n",
      "       44551, 44580, 44610, 44620, 44631, 44633, 44634, 44638, 44643,\n",
      "       44656, 44669, 44677, 44688, 44694, 44695, 44701, 44716, 44734,\n",
      "       44738, 44742, 44746, 44752, 44756, 44761, 44762, 44767, 44779,\n",
      "       44780, 44786, 44788, 44791, 44794, 44797, 44800, 44806, 44812,\n",
      "       44813, 44821, 44825, 44830, 44849, 44875, 44892, 44893, 44894,\n",
      "       44899, 44902, 44911, 44932, 44939, 44952, 44967, 44973, 44996,\n",
      "       44999, 45010, 45042, 45047, 45050, 45056, 45060, 45063, 45078,\n",
      "       45079, 45082, 45095, 45096, 45101, 45104, 45109, 45111, 45118,\n",
      "       45127, 45134, 45140, 45141, 45150, 45153, 45154, 45163, 45180,\n",
      "       45183, 45184, 45191, 45195, 45204, 45207, 45208], dtype=int64),)\n"
     ]
    }
   ],
   "source": [
    "print(np.where(data_age_zscore > 2))"
   ]
  },
  {
   "cell_type": "code",
   "execution_count": 14,
   "metadata": {},
   "outputs": [],
   "source": [
    "data_z = X[(data_age_zscore < 2)]\n"
   ]
  },
  {
   "cell_type": "code",
   "execution_count": 15,
   "metadata": {},
   "outputs": [],
   "source": [
    "Y_z = Y[(data_age_zscore < 2)]\n"
   ]
  },
  {
   "cell_type": "code",
   "execution_count": 16,
   "metadata": {},
   "outputs": [],
   "source": [
    "df1=pd.DataFrame(data_z)\n",
    "df2=pd.DataFrame(Y_z)\n",
    "data_1 = pd.concat([df1, df2], axis=1)"
   ]
  },
  {
   "cell_type": "code",
   "execution_count": 17,
   "metadata": {},
   "outputs": [
    {
     "data": {
      "text/plain": [
       "no     39367\n",
       "yes     4883\n",
       "Name: y, dtype: int64"
      ]
     },
     "execution_count": 17,
     "metadata": {},
     "output_type": "execute_result"
    }
   ],
   "source": [
    "data_1['y'].value_counts()"
   ]
  },
  {
   "cell_type": "code",
   "execution_count": 18,
   "metadata": {},
   "outputs": [
    {
     "name": "stdout",
     "output_type": "stream",
     "text": [
      "After removing Outliers\n"
     ]
    },
    {
     "data": {
      "image/png": "[encoded data removed]",
      "text/plain": [
       "<Figure size 432x288 with 1 Axes>"
      ]
     },
     "metadata": {},
     "output_type": "display_data"
    }
   ],
   "source": [
    "import matplotlib.pyplot as plt\n",
    "color = '#81d1ec','#ffa500'\n",
    "labels = 'Subscribed to Term Deposit', 'Did not Subscribe to Term Deposit'\n",
    "sizes = [4883, 39367]\n",
    "print(\"After removing Outliers\")\n",
    "fig1, ax1 = plt.subplots()\n",
    "ax1.pie( sizes, labels=labels,colors=color, autopct='%1.1f%%',\n",
    "        shadow=False, startangle=90)\n",
    "ax1.axis('equal') \n",
    "plt.show()"
   ]
  },
  {
   "cell_type": "code",
   "execution_count": 19,
   "metadata": {},
   "outputs": [
    {
     "name": "stdout",
     "output_type": "stream",
     "text": [
      "(44250, 16)\n",
      "(44250,)\n"
     ]
    }
   ],
   "source": [
    "X_1 = data_1.drop(['y'], axis = 1) \n",
    "Y_1 = data_1['y'] \n",
    "print(X_1.shape) \n",
    "print(Y_1.shape) "
   ]
  },
  {
   "cell_type": "code",
   "execution_count": 20,
   "metadata": {},
   "outputs": [
    {
     "data": {
      "image/png": "[encoded data removed]",
      "text/plain": [
       "<Figure size 1080x1440 with 14 Axes>"
      ]
     },
     "metadata": {
      "needs_background": "light"
     },
     "output_type": "display_data"
    }
   ],
   "source": [
    "data_1.plot(kind=\"box\",subplots=True,layout=(7,2),figsize=(15,20));"
   ]
  },
  {
   "cell_type": "code",
   "execution_count": 21,
   "metadata": {},
   "outputs": [
    {
     "data": {
      "text/plain": [
       "Text(0.5, 1.0, 'After Removing Outliers')"
      ]
     },
     "execution_count": 21,
     "metadata": {},
     "output_type": "execute_result"
    },
    {
     "data": {
      "image/png": "[encoded data removed]",
      "text/plain": [
       "<Figure size 432x288 with 2 Axes>"
      ]
     },
     "metadata": {
      "needs_background": "light"
     },
     "output_type": "display_data"
    }
   ],
   "source": [
    "plt.subplot(1,2,1)\n",
    "data['age'].plot(kind=\"box\");\n",
    "plt.title('Before')\n",
    "plt.subplot(1,2,2)\n",
    "data_1['age'].plot(kind=\"box\");\n",
    "plt.title('After Removing Outliers')"
   ]
  },
  {
   "cell_type": "code",
   "execution_count": 22,
   "metadata": {},
   "outputs": [
    {
     "data": {
      "text/html": [
       "<div>\n",
       "<style scoped>\n",
       "    .dataframe tbody tr th:only-of-type {\n",
       "        vertical-align: middle;\n",
       "    }\n",
       "\n",
       "    .dataframe tbody tr th {\n",
       "        vertical-align: top;\n",
       "    }\n",
       "\n",
       "    .dataframe thead th {\n",
       "        text-align: right;\n",
       "    }\n",
       "</style>\n",
       "<table border=\"1\" class=\"dataframe\">\n",
       "  <thead>\n",
       "    <tr style=\"text-align: right;\">\n",
       "      <th></th>\n",
       "      <th>age</th>\n",
       "      <th>job</th>\n",
       "      <th>marital</th>\n",
       "      <th>education</th>\n",
       "      <th>default</th>\n",
       "      <th>balance</th>\n",
       "      <th>housing</th>\n",
       "      <th>loan</th>\n",
       "      <th>contact</th>\n",
       "      <th>day</th>\n",
       "      <th>month</th>\n",
       "      <th>duration</th>\n",
       "      <th>campaign</th>\n",
       "      <th>pdays</th>\n",
       "      <th>previous</th>\n",
       "      <th>poutcome</th>\n",
       "      <th>y</th>\n",
       "    </tr>\n",
       "  </thead>\n",
       "  <tbody>\n",
       "    <tr>\n",
       "      <th>0</th>\n",
       "      <td>40</td>\n",
       "      <td>4</td>\n",
       "      <td>1</td>\n",
       "      <td>2</td>\n",
       "      <td>0</td>\n",
       "      <td>3034</td>\n",
       "      <td>1</td>\n",
       "      <td>0</td>\n",
       "      <td>2</td>\n",
       "      <td>4</td>\n",
       "      <td>8</td>\n",
       "      <td>261</td>\n",
       "      <td>0</td>\n",
       "      <td>0</td>\n",
       "      <td>0</td>\n",
       "      <td>3</td>\n",
       "      <td>0</td>\n",
       "    </tr>\n",
       "    <tr>\n",
       "      <th>1</th>\n",
       "      <td>26</td>\n",
       "      <td>9</td>\n",
       "      <td>2</td>\n",
       "      <td>1</td>\n",
       "      <td>0</td>\n",
       "      <td>945</td>\n",
       "      <td>1</td>\n",
       "      <td>0</td>\n",
       "      <td>2</td>\n",
       "      <td>4</td>\n",
       "      <td>8</td>\n",
       "      <td>151</td>\n",
       "      <td>0</td>\n",
       "      <td>0</td>\n",
       "      <td>0</td>\n",
       "      <td>3</td>\n",
       "      <td>0</td>\n",
       "    </tr>\n",
       "    <tr>\n",
       "      <th>2</th>\n",
       "      <td>15</td>\n",
       "      <td>2</td>\n",
       "      <td>1</td>\n",
       "      <td>1</td>\n",
       "      <td>0</td>\n",
       "      <td>918</td>\n",
       "      <td>1</td>\n",
       "      <td>1</td>\n",
       "      <td>2</td>\n",
       "      <td>4</td>\n",
       "      <td>8</td>\n",
       "      <td>76</td>\n",
       "      <td>0</td>\n",
       "      <td>0</td>\n",
       "      <td>0</td>\n",
       "      <td>3</td>\n",
       "      <td>0</td>\n",
       "    </tr>\n",
       "    <tr>\n",
       "      <th>3</th>\n",
       "      <td>29</td>\n",
       "      <td>1</td>\n",
       "      <td>1</td>\n",
       "      <td>3</td>\n",
       "      <td>0</td>\n",
       "      <td>2420</td>\n",
       "      <td>1</td>\n",
       "      <td>0</td>\n",
       "      <td>2</td>\n",
       "      <td>4</td>\n",
       "      <td>8</td>\n",
       "      <td>92</td>\n",
       "      <td>0</td>\n",
       "      <td>0</td>\n",
       "      <td>0</td>\n",
       "      <td>3</td>\n",
       "      <td>0</td>\n",
       "    </tr>\n",
       "    <tr>\n",
       "      <th>4</th>\n",
       "      <td>15</td>\n",
       "      <td>11</td>\n",
       "      <td>2</td>\n",
       "      <td>3</td>\n",
       "      <td>0</td>\n",
       "      <td>917</td>\n",
       "      <td>0</td>\n",
       "      <td>0</td>\n",
       "      <td>2</td>\n",
       "      <td>4</td>\n",
       "      <td>8</td>\n",
       "      <td>198</td>\n",
       "      <td>0</td>\n",
       "      <td>0</td>\n",
       "      <td>0</td>\n",
       "      <td>3</td>\n",
       "      <td>0</td>\n",
       "    </tr>\n",
       "    <tr>\n",
       "      <th>...</th>\n",
       "      <td>...</td>\n",
       "      <td>...</td>\n",
       "      <td>...</td>\n",
       "      <td>...</td>\n",
       "      <td>...</td>\n",
       "      <td>...</td>\n",
       "      <td>...</td>\n",
       "      <td>...</td>\n",
       "      <td>...</td>\n",
       "      <td>...</td>\n",
       "      <td>...</td>\n",
       "      <td>...</td>\n",
       "      <td>...</td>\n",
       "      <td>...</td>\n",
       "      <td>...</td>\n",
       "      <td>...</td>\n",
       "      <td>...</td>\n",
       "    </tr>\n",
       "    <tr>\n",
       "      <th>45203</th>\n",
       "      <td>5</td>\n",
       "      <td>8</td>\n",
       "      <td>2</td>\n",
       "      <td>2</td>\n",
       "      <td>0</td>\n",
       "      <td>1029</td>\n",
       "      <td>0</td>\n",
       "      <td>0</td>\n",
       "      <td>0</td>\n",
       "      <td>16</td>\n",
       "      <td>9</td>\n",
       "      <td>266</td>\n",
       "      <td>0</td>\n",
       "      <td>0</td>\n",
       "      <td>0</td>\n",
       "      <td>3</td>\n",
       "      <td>1</td>\n",
       "    </tr>\n",
       "    <tr>\n",
       "      <th>45205</th>\n",
       "      <td>7</td>\n",
       "      <td>9</td>\n",
       "      <td>2</td>\n",
       "      <td>1</td>\n",
       "      <td>0</td>\n",
       "      <td>1421</td>\n",
       "      <td>0</td>\n",
       "      <td>1</td>\n",
       "      <td>0</td>\n",
       "      <td>16</td>\n",
       "      <td>9</td>\n",
       "      <td>386</td>\n",
       "      <td>1</td>\n",
       "      <td>0</td>\n",
       "      <td>0</td>\n",
       "      <td>3</td>\n",
       "      <td>1</td>\n",
       "    </tr>\n",
       "    <tr>\n",
       "      <th>45206</th>\n",
       "      <td>33</td>\n",
       "      <td>9</td>\n",
       "      <td>1</td>\n",
       "      <td>2</td>\n",
       "      <td>0</td>\n",
       "      <td>1741</td>\n",
       "      <td>0</td>\n",
       "      <td>0</td>\n",
       "      <td>0</td>\n",
       "      <td>16</td>\n",
       "      <td>9</td>\n",
       "      <td>975</td>\n",
       "      <td>2</td>\n",
       "      <td>0</td>\n",
       "      <td>0</td>\n",
       "      <td>3</td>\n",
       "      <td>1</td>\n",
       "    </tr>\n",
       "    <tr>\n",
       "      <th>45209</th>\n",
       "      <td>39</td>\n",
       "      <td>1</td>\n",
       "      <td>1</td>\n",
       "      <td>1</td>\n",
       "      <td>0</td>\n",
       "      <td>1584</td>\n",
       "      <td>0</td>\n",
       "      <td>0</td>\n",
       "      <td>1</td>\n",
       "      <td>16</td>\n",
       "      <td>9</td>\n",
       "      <td>508</td>\n",
       "      <td>3</td>\n",
       "      <td>0</td>\n",
       "      <td>0</td>\n",
       "      <td>3</td>\n",
       "      <td>0</td>\n",
       "    </tr>\n",
       "    <tr>\n",
       "      <th>45210</th>\n",
       "      <td>19</td>\n",
       "      <td>2</td>\n",
       "      <td>1</td>\n",
       "      <td>1</td>\n",
       "      <td>0</td>\n",
       "      <td>3775</td>\n",
       "      <td>0</td>\n",
       "      <td>0</td>\n",
       "      <td>0</td>\n",
       "      <td>16</td>\n",
       "      <td>9</td>\n",
       "      <td>361</td>\n",
       "      <td>1</td>\n",
       "      <td>184</td>\n",
       "      <td>11</td>\n",
       "      <td>1</td>\n",
       "      <td>0</td>\n",
       "    </tr>\n",
       "  </tbody>\n",
       "</table>\n",
       "<p>44250 rows × 17 columns</p>\n",
       "</div>"
      ],
      "text/plain": [
       "       age  job  marital  education  default  balance  housing  loan  contact  \\\n",
       "0       40    4        1          2        0     3034        1     0        2   \n",
       "1       26    9        2          1        0      945        1     0        2   \n",
       "2       15    2        1          1        0      918        1     1        2   \n",
       "3       29    1        1          3        0     2420        1     0        2   \n",
       "4       15   11        2          3        0      917        0     0        2   \n",
       "...    ...  ...      ...        ...      ...      ...      ...   ...      ...   \n",
       "45203    5    8        2          2        0     1029        0     0        0   \n",
       "45205    7    9        2          1        0     1421        0     1        0   \n",
       "45206   33    9        1          2        0     1741        0     0        0   \n",
       "45209   39    1        1          1        0     1584        0     0        1   \n",
       "45210   19    2        1          1        0     3775        0     0        0   \n",
       "\n",
       "       day  month  duration  campaign  pdays  previous  poutcome  y  \n",
       "0        4      8       261         0      0         0         3  0  \n",
       "1        4      8       151         0      0         0         3  0  \n",
       "2        4      8        76         0      0         0         3  0  \n",
       "3        4      8        92         0      0         0         3  0  \n",
       "4        4      8       198         0      0         0         3  0  \n",
       "...    ...    ...       ...       ...    ...       ...       ... ..  \n",
       "45203   16      9       266         0      0         0         3  1  \n",
       "45205   16      9       386         1      0         0         3  1  \n",
       "45206   16      9       975         2      0         0         3  1  \n",
       "45209   16      9       508         3      0         0         3  0  \n",
       "45210   16      9       361         1    184        11         1  0  \n",
       "\n",
       "[44250 rows x 17 columns]"
      ]
     },
     "execution_count": 22,
     "metadata": {},
     "output_type": "execute_result"
    }
   ],
   "source": [
    "from sklearn.preprocessing import LabelEncoder\n",
    "data_en = data_1.apply(LabelEncoder().fit_transform)\n",
    "data_en"
   ]
  },
  {
   "cell_type": "code",
   "execution_count": 23,
   "metadata": {},
   "outputs": [
    {
     "name": "stdout",
     "output_type": "stream",
     "text": [
      "(44250, 16)\n",
      "(44250,)\n"
     ]
    }
   ],
   "source": [
    "X_en = data_en.drop(['y'], axis = 1) \n",
    "Y_en = data_en['y'] \n",
    "print(X_1.shape) \n",
    "print(Y_1.shape) "
   ]
  },
  {
   "cell_type": "code",
   "execution_count": 24,
   "metadata": {},
   "outputs": [
    {
     "name": "stdout",
     "output_type": "stream",
     "text": [
      "Before oversampling:  Counter({0: 29493, 1: 3694})\n",
      "After oversampling:  Counter({0: 29493, 1: 29493})\n"
     ]
    }
   ],
   "source": [
    "from collections import Counter\n",
    "from imblearn.over_sampling import SMOTE\n",
    "from sklearn.model_selection import train_test_split\n",
    "import pandas as pd\n",
    "import numpy as np\n",
    "import warnings\n",
    "warnings.simplefilter(action='ignore', category=FutureWarning)\n",
    "\n",
    "\n",
    "xx = data_en.iloc[:,:-1]\n",
    "yy = data_en.iloc[:,-1]\n",
    "\n",
    "X_train, X_test, Y_train, Y_test = train_test_split(xx,yy,test_size=0.25)\n",
    "\n",
    "# summarize class distribution\n",
    "print(\"Before oversampling: \",Counter(Y_train))\n",
    "\n",
    "# define oversampling strategy\n",
    "SMOTE = SMOTE()\n",
    "\n",
    "# fit and apply the transform\n",
    "X_train_sm, Y_train_sm = SMOTE.fit_resample(X_train, Y_train)\n",
    "\n",
    "# summarize class distribution\n",
    "print(\"After oversampling: \",Counter(Y_train_sm))\n",
    "\n"
   ]
  },
  {
   "cell_type": "code",
   "execution_count": 25,
   "metadata": {},
   "outputs": [
    {
     "data": {
      "text/plain": [
       "(58986, 16)"
      ]
     },
     "execution_count": 25,
     "metadata": {},
     "output_type": "execute_result"
    }
   ],
   "source": [
    "X_train_sm.shape"
   ]
  },
  {
   "cell_type": "code",
   "execution_count": 26,
   "metadata": {},
   "outputs": [
    {
     "data": {
      "text/plain": [
       "(58986,)"
      ]
     },
     "execution_count": 26,
     "metadata": {},
     "output_type": "execute_result"
    }
   ],
   "source": [
    "Y_train_sm.shape"
   ]
  },
  {
   "cell_type": "code",
   "execution_count": 45,
   "metadata": {},
   "outputs": [
    {
     "data": {
      "image/png": "[encoded data removed]",
      "text/plain": [
       "<Figure size 432x288 with 1 Axes>"
      ]
     },
     "metadata": {
      "needs_background": "light"
     },
     "output_type": "display_data"
    }
   ],
   "source": [
    "import numpy as np\n",
    "import matplotlib.pyplot as plt \n",
    "\n",
    "data = {'0':29493, '1':3694}\n",
    "SMOTE = list(data.keys())\n",
    "values = list(data.values())\n",
    "  \n",
    "#fig = plt.figure(figsize = (6, 3))\n",
    " \n",
    "plt.bar(SMOTE, values, color =['#003f5c','#58508d'],\n",
    "        width = 0.2)\n",
    " \n",
    "plt.xlabel(\"Class\",fontsize=10)\n",
    "plt.ylabel(\"No. of observations\",fontsize=10)\n",
    "#plt.title(\"No. of observations in each class\",fontsize=10)\n",
    "plt.show()"
   ]
  },
  {
   "cell_type": "code",
   "execution_count": 46,
   "metadata": {},
   "outputs": [
    {
     "data": {
      "image/png": "[encoded data removed]",
      "text/plain": [
       "<Figure size 432x288 with 1 Axes>"
      ]
     },
     "metadata": {
      "needs_background": "light"
     },
     "output_type": "display_data"
    }
   ],
   "source": [
    "import numpy as np\n",
    "import matplotlib.pyplot as plt \n",
    "\n",
    "data = {'0':29493, '1':29493}\n",
    "SMOTE = list(data.keys())\n",
    "values = list(data.values())\n",
    "  \n",
    "#fig = plt.figure(figsize = (6, 3))\n",
    " \n",
    "plt.bar(SMOTE, values, color =['#003f5c','#58508d'],\n",
    "        width = 0.2)\n",
    " \n",
    "plt.xlabel(\"Class\",fontsize=10)\n",
    "plt.ylabel(\"No. of observations\",fontsize=10)\n",
    "#plt.title(\"No. of observations in each class\",fontsize=10)\n",
    "plt.show()"
   ]
  },
  {
   "cell_type": "code",
   "execution_count": 27,
   "metadata": {},
   "outputs": [
    {
     "name": "stdout",
     "output_type": "stream",
     "text": [
      "Feature Scores Ranking:\n",
      "1. Feature 11 (0.270071)\n",
      "2. Feature 6 (0.124770)\n",
      "3. Feature 8 (0.093376)\n",
      "4. Feature 10 (0.075474)\n",
      "5. Feature 9 (0.062294)\n",
      "6. Feature 5 (0.056125)\n",
      "7. Feature 0 (0.052585)\n",
      "8. Feature 1 (0.050392)\n",
      "9. Feature 7 (0.047142)\n",
      "10. Feature 12 (0.043679)\n",
      "11. Feature 15 (0.035088)\n",
      "12. Feature 3 (0.028431)\n",
      "13. Feature 13 (0.023549)\n",
      "14. Feature 2 (0.020793)\n",
      "15. Feature 14 (0.013044)\n",
      "16. Feature 4 (0.003188)\n"
     ]
    },
    {
     "data": {
      "image/png": "[encoded data removed]",
      "text/plain": [
       "<Figure size 432x288 with 1 Axes>"
      ]
     },
     "metadata": {
      "needs_background": "light"
     },
     "output_type": "display_data"
    }
   ],
   "source": [
    "import pandas as pd\n",
    "import numpy as np\n",
    "from sklearn.ensemble import ExtraTreesClassifier\n",
    "import matplotlib.pyplot as plt\n",
    "model = ExtraTreesClassifier()\n",
    "model.fit(X_train_sm,Y_train_sm)\n",
    "importance=model.feature_importances_\n",
    "indices = np.argsort(importance)[::-1]\n",
    "print(\"Feature Scores Ranking:\")\n",
    "for f in range(X_en.shape[1]):\n",
    "    print(\"%d. Feature %d (%f)\" % (f + 1, indices[f], importance[indices[f]]))\n",
    "feat_importances = pd.Series(model.feature_importances_, index=X_en.columns)\n",
    "feat_importances.nlargest(10).plot(kind='barh', color='#ffa500')\n",
    "plt.xlabel(\"Scores\",fontsize='14')\n",
    "plt.ylabel(\"Features\",fontsize='14')\n",
    "plt.title(\"Feature Scores\",fontsize='16')\n",
    "plt.show()"
   ]
  },
  {
   "cell_type": "code",
   "execution_count": 28,
   "metadata": {},
   "outputs": [
    {
     "data": {
      "image/png": "[encoded data removed]",
      "text/plain": [
       "<Figure size 432x288 with 1 Axes>"
      ]
     },
     "metadata": {
      "needs_background": "light"
     },
     "output_type": "display_data"
    }
   ],
   "source": [
    "feat_importances.nlargest(16).plot(kind='barh')\n",
    "plt.show()"
   ]
  },
  {
   "cell_type": "code",
   "execution_count": 29,
   "metadata": {},
   "outputs": [],
   "source": [
    "xts=pd.DataFrame(X_train_sm)\n",
    "yts=pd.DataFrame(Y_train_sm)\n",
    "data_sm = pd.concat([xts, yts], axis=1)"
   ]
  },
  {
   "cell_type": "code",
   "execution_count": 30,
   "metadata": {},
   "outputs": [],
   "source": [
    "data_fin=data_sm.drop(['default','previous','pdays','education','poutcome','marital'], axis = 1)"
   ]
  },
  {
   "cell_type": "code",
   "execution_count": 31,
   "metadata": {},
   "outputs": [],
   "source": [
    "xxt = data_fin.iloc[:,:-1]\n",
    "yyt = data_fin.iloc[:,-1]\n",
    "\n",
    "X_train, X_test, Y_train, Y_test = train_test_split(xxt,yyt,test_size=0.25)"
   ]
  },
  {
   "cell_type": "code",
   "execution_count": 32,
   "metadata": {},
   "outputs": [
    {
     "name": "stdout",
     "output_type": "stream",
     "text": [
      "Accuracy: 0.7778531226690174\n"
     ]
    }
   ],
   "source": [
    "from sklearn.naive_bayes import GaussianNB\n",
    "gnb = GaussianNB()\n",
    "gnb.fit(X_train, Y_train)\n",
    "Y_pred=gnb.predict(X_test)\n",
    "from sklearn import metrics\n",
    "print(\"Accuracy:\",metrics.accuracy_score(Y_test, Y_pred))"
   ]
  },
  {
   "cell_type": "code",
   "execution_count": 33,
   "metadata": {},
   "outputs": [
    {
     "name": "stdout",
     "output_type": "stream",
     "text": [
      "Gaussian NB Classifier Results:\n",
      "Confusion matrix: \n",
      "[[4627 2738]\n",
      " [ 538 6844]]\n",
      "Accuracy score: 0.7778531226690174\n",
      "Precision score: 0.7142558964725527\n",
      "Recall score: 0.927120021674343\n",
      "F1 Score: 0.8068851685923132\n"
     ]
    }
   ],
   "source": [
    "print(\"Gaussian NB Classifier Results:\")\n",
    "from sklearn.metrics import confusion_matrix\n",
    "print(\"Confusion matrix: \")\n",
    "print(confusion_matrix(Y_test, Y_pred))\n",
    "from sklearn.metrics import accuracy_score\n",
    "print(\"Accuracy score:\", accuracy_score(Y_test, Y_pred))\n",
    "from sklearn.metrics import precision_score\n",
    "print(\"Precision score:\",precision_score(Y_test, Y_pred))\n",
    "from sklearn.metrics import recall_score\n",
    "print(\"Recall score:\",recall_score(Y_test, Y_pred))\n",
    "from sklearn.metrics import f1_score\n",
    "print(\"F1 Score:\", f1_score(Y_test, Y_pred))"
   ]
  },
  {
   "cell_type": "code",
   "execution_count": 51,
   "metadata": {},
   "outputs": [
    {
     "name": "stdout",
     "output_type": "stream",
     "text": [
      "Accuracy: 0.9217467959585001\n"
     ]
    }
   ],
   "source": [
    "from sklearn.ensemble import RandomForestClassifier\n",
    "rf = RandomForestClassifier()\n",
    "rf.fit(X_train, Y_train)\n",
    "Y_pred=rf.predict(X_test)\n",
    "from sklearn import metrics\n",
    "print(\"Accuracy:\",metrics.accuracy_score(Y_test, Y_pred))"
   ]
  },
  {
   "cell_type": "code",
   "execution_count": 72,
   "metadata": {},
   "outputs": [],
   "source": [
    "Y_testt=pd.DataFrame(np.array(Y_test))"
   ]
  },
  {
   "cell_type": "code",
   "execution_count": 73,
   "metadata": {},
   "outputs": [
    {
     "data": {
      "text/plain": [
       "(14747, 1)"
      ]
     },
     "execution_count": 73,
     "metadata": {},
     "output_type": "execute_result"
    }
   ],
   "source": [
    "Y_testt.shape"
   ]
  },
  {
   "cell_type": "code",
   "execution_count": 74,
   "metadata": {},
   "outputs": [
    {
     "data": {
      "text/plain": [
       "(14747,)"
      ]
     },
     "execution_count": 74,
     "metadata": {},
     "output_type": "execute_result"
    }
   ],
   "source": [
    "Y_pred.shape"
   ]
  },
  {
   "cell_type": "code",
   "execution_count": 82,
   "metadata": {},
   "outputs": [
    {
     "name": "stdout",
     "output_type": "stream",
     "text": [
      "Random Forest model's prediction for class 1\n",
      "y_test= 1\n",
      "y_pred= 1\n",
      "\n",
      "\n",
      "Random Forest model's prediction for class 0\n",
      "y_test= 0\n",
      "y_pred= 0\n"
     ]
    }
   ],
   "source": [
    "print(\"Random Forest model's prediction for class 1\")\n",
    "print('y_test=',Y_testt[0][1])\n",
    "print('y_pred=',Y_pred[1])\n",
    "print(\"\\n\")\n",
    "print(\"Random Forest model's prediction for class 0\")\n",
    "print('y_test=',Y_testt[0][2])\n",
    "print('y_pred=',Y_pred[2])"
   ]
  },
  {
   "cell_type": "code",
   "execution_count": 52,
   "metadata": {},
   "outputs": [
    {
     "name": "stdout",
     "output_type": "stream",
     "text": [
      "Random Forest Classifier Results:\n",
      "Confusion matrix: \n",
      "[[6644  721]\n",
      " [ 433 6949]]\n",
      "Accuracy score: 0.9217467959585001\n",
      "Precision score: 0.9059973924380704\n",
      "Recall score: 0.9413438092657817\n",
      "F1 Score: 0.9233324475152804\n"
     ]
    }
   ],
   "source": [
    "print(\"Random Forest Classifier Results:\")\n",
    "from sklearn.metrics import confusion_matrix\n",
    "print(\"Confusion matrix: \")\n",
    "print(confusion_matrix(Y_test, Y_pred))\n",
    "from sklearn.metrics import accuracy_score\n",
    "print(\"Accuracy score:\", accuracy_score(Y_test, Y_pred))\n",
    "from sklearn.metrics import precision_score\n",
    "print(\"Precision score:\",precision_score(Y_test, Y_pred))\n",
    "from sklearn.metrics import recall_score\n",
    "print(\"Recall score:\",recall_score(Y_test, Y_pred))\n",
    "from sklearn.metrics import f1_score\n",
    "print(\"F1 Score:\", f1_score(Y_test, Y_pred))"
   ]
  },
  {
   "cell_type": "code",
   "execution_count": null,
   "metadata": {},
   "outputs": [],
   "source": []
  },
  {
   "cell_type": "code",
   "execution_count": 49,
   "metadata": {},
   "outputs": [
    {
     "name": "stderr",
     "output_type": "stream",
     "text": [
      "C:\\Users\\harsh\\anaconda3\\lib\\site-packages\\xgboost\\sklearn.py:892: UserWarning: The use of label encoder in XGBClassifier is deprecated and will be removed in a future release. To remove this warning, do the following: 1) Pass option use_label_encoder=False when constructing XGBClassifier object; and 2) Encode your labels (y) as integers starting with 0, i.e. 0, 1, 2, ..., [num_class - 1].\n",
      "  warnings.warn(label_encoder_deprecation_msg, UserWarning)\n"
     ]
    },
    {
     "name": "stdout",
     "output_type": "stream",
     "text": [
      "[12:39:10] WARNING: C:/Users/Administrator/workspace/xgboost-win64_release_1.3.0/src/learner.cc:1061: Starting in XGBoost 1.3.0, the default evaluation metric used with the objective 'binary:logistic' was changed from 'error' to 'logloss'. Explicitly set eval_metric if you'd like to restore the old behavior.\n",
      "Accuracy: 0.9186275174611785\n"
     ]
    }
   ],
   "source": [
    "from xgboost import XGBClassifier\n",
    "xgb = XGBClassifier()\n",
    "xgb.fit(X_train, Y_train)\n",
    "Y_pred=xgb.predict(X_test)\n",
    "from sklearn import metrics\n",
    "print(\"Accuracy:\",metrics.accuracy_score(Y_test, Y_pred))"
   ]
  },
  {
   "cell_type": "code",
   "execution_count": 50,
   "metadata": {},
   "outputs": [
    {
     "name": "stdout",
     "output_type": "stream",
     "text": [
      "XGB Classifier Results:\n",
      "Confusion matrix: \n",
      "[[6661  704]\n",
      " [ 496 6886]]\n",
      "Accuracy score: 0.9186275174611785\n",
      "Precision score: 0.9072463768115943\n",
      "Recall score: 0.9328095367109185\n",
      "F1 Score: 0.9198503873897943\n"
     ]
    }
   ],
   "source": [
    "print(\"XGB Classifier Results:\")\n",
    "from sklearn.metrics import confusion_matrix\n",
    "print(\"Confusion matrix: \")\n",
    "print(confusion_matrix(Y_test, Y_pred))\n",
    "from sklearn.metrics import accuracy_score\n",
    "print(\"Accuracy score:\", accuracy_score(Y_test, Y_pred))\n",
    "from sklearn.metrics import precision_score\n",
    "print(\"Precision score:\",precision_score(Y_test, Y_pred))\n",
    "from sklearn.metrics import recall_score\n",
    "print(\"Recall score:\",recall_score(Y_test, Y_pred))\n",
    "from sklearn.metrics import f1_score\n",
    "print(\"F1 Score:\", f1_score(Y_test, Y_pred))"
   ]
  },
  {
   "cell_type": "code",
   "execution_count": 38,
   "metadata": {},
   "outputs": [
    {
     "name": "stdout",
     "output_type": "stream",
     "text": [
      "Accuracy: 0.8197599511765105\n"
     ]
    }
   ],
   "source": [
    "from sklearn.neighbors import KNeighborsClassifier\n",
    "knn = KNeighborsClassifier(n_neighbors=7)\n",
    "knn.fit(X_train, Y_train)\n",
    "Y_pred=knn.predict(X_test)\n",
    "from sklearn import metrics\n",
    "print(\"Accuracy:\",metrics.accuracy_score(Y_test, Y_pred))"
   ]
  },
  {
   "cell_type": "code",
   "execution_count": 39,
   "metadata": {},
   "outputs": [
    {
     "name": "stdout",
     "output_type": "stream",
     "text": [
      "KNN Classifier Results:\n",
      "Confusion matrix: \n",
      "[[5349 2016]\n",
      " [ 642 6740]]\n",
      "Accuracy score: 0.8197599511765105\n",
      "Precision score: 0.7697578803106442\n",
      "Recall score: 0.9130316987266324\n",
      "F1 Score: 0.8352955756599332\n"
     ]
    }
   ],
   "source": [
    "print(\"KNN Classifier Results:\")\n",
    "from sklearn.metrics import confusion_matrix\n",
    "print(\"Confusion matrix: \")\n",
    "print(confusion_matrix(Y_test, Y_pred))\n",
    "from sklearn.metrics import accuracy_score\n",
    "print(\"Accuracy score:\", accuracy_score(Y_test, Y_pred))\n",
    "from sklearn.metrics import precision_score\n",
    "print(\"Precision score:\",precision_score(Y_test, Y_pred))\n",
    "from sklearn.metrics import recall_score\n",
    "print(\"Recall score:\",recall_score(Y_test, Y_pred))\n",
    "from sklearn.metrics import f1_score\n",
    "print(\"F1 Score:\", f1_score(Y_test, Y_pred))"
   ]
  },
  {
   "cell_type": "code",
   "execution_count": 40,
   "metadata": {},
   "outputs": [
    {
     "data": {
      "image/png": "[encoded data removed]",
      "text/plain": [
       "<Figure size 432x288 with 1 Axes>"
      ]
     },
     "metadata": {
      "needs_background": "light"
     },
     "output_type": "display_data"
    }
   ],
   "source": [
    "import numpy as np\n",
    "import matplotlib.pyplot as plt \n",
    "\n",
    "N = 4\n",
    "d = [[0.7813,0.9282,0.9255,0.8231],[0.7185,0.9104,0.9109,0.7708],\n",
    "  [0.9247,0.9498,0.9432,0.9195],[0.8087,0.9297,0.9268,0.8386]]\n",
    "ind = np.arange(N)\n",
    "width = 0.2    \n",
    "plt.bar(ind, d[0], width, label='Accuracy Score',color='#003f5c')\n",
    "plt.bar(ind + width, d[1], width,\n",
    "    label='Precision Score',color='#58508d')\n",
    "plt.bar(ind + width+width, d[2], width,\n",
    "    label='Recall Score',color='#bc5090')\n",
    "plt.bar(ind + width + width+width, d[3], width,\n",
    "    label='F1 Score',color='#ff6361')\n",
    "#plt.bar(ind + width + width+width, d[3], width,\n",
    " #   label='Recall',color='lightgreen')\n",
    "plt.xlabel('Models',fontsize=10)\n",
    "\n",
    "plt.ylabel('Metrics',fontsize=10)\n",
    "#plt.title('Models vs Metrics',fontsize=15)\n",
    "\n",
    "plt.xticks(ind + width , ( 'Gaussian NB','Random Forest','XG Boost','KNN'))\n",
    "plt.legend(loc='lower right')\n",
    "plt.show()"
   ]
  },
  {
   "cell_type": "code",
   "execution_count": 41,
   "metadata": {},
   "outputs": [
    {
     "data": {
      "image/png": "[encoded data removed]",
      "text/plain": [
       "<Figure size 432x288 with 1 Axes>"
      ]
     },
     "metadata": {
      "needs_background": "light"
     },
     "output_type": "display_data"
    }
   ],
   "source": [
    "x = [\"Gaussian NB\", \"Random Forest\", \"XG Boost\", \"KNN\"]\n",
    "y = [0.7813, 0.9282, 0.9255, 0.8231]\n",
    "plt.barh(x, y,color='#003f5c')\n",
    "plt.xlabel('Models')\n",
    "plt.ylabel('Accuracy Score')\n",
    "for index, value in enumerate(y):\n",
    "    plt.text(value,index, str(value))"
   ]
  },
  {
   "cell_type": "code",
   "execution_count": 42,
   "metadata": {},
   "outputs": [
    {
     "data": {
      "image/png": "[encoded data removed]",
      "text/plain": [
       "<Figure size 432x288 with 1 Axes>"
      ]
     },
     "metadata": {
      "needs_background": "light"
     },
     "output_type": "display_data"
    }
   ],
   "source": [
    "x = [\"Gaussian NB\", \"Random Forest\", \"XG Boost\", \"KNN\"]\n",
    "y = [0.7185,0.9104,0.9109,0.7708]\n",
    "plt.barh(x, y,color='#58508d')\n",
    "plt.xlabel('Models')\n",
    "plt.ylabel('Precision Score')\n",
    "for index, value in enumerate(y):\n",
    "    plt.text(value,index, str(value))"
   ]
  },
  {
   "cell_type": "code",
   "execution_count": 43,
   "metadata": {},
   "outputs": [
    {
     "data": {
      "image/png": "[encoded data removed]",
      "text/plain": [
       "<Figure size 432x288 with 1 Axes>"
      ]
     },
     "metadata": {
      "needs_background": "light"
     },
     "output_type": "display_data"
    }
   ],
   "source": [
    "x = [\"Gaussian NB\", \"Random Forest\", \"XG Boost\", \"KNN\"]\n",
    "y = [0.9247,0.9498,0.9432,0.9195]\n",
    "plt.barh(x, y,color='#bc5090')\n",
    "plt.xlabel('Models')\n",
    "plt.ylabel('Recall Score')\n",
    "for index, value in enumerate(y):\n",
    "    plt.text(value,index, str(value))"
   ]
  },
  {
   "cell_type": "code",
   "execution_count": 44,
   "metadata": {},
   "outputs": [
    {
     "data": {
      "image/png": "[encoded data removed]",
      "text/plain": [
       "<Figure size 432x288 with 1 Axes>"
      ]
     },
     "metadata": {
      "needs_background": "light"
     },
     "output_type": "display_data"
    }
   ],
   "source": [
    "x = [\"Gaussian NB\", \"Random Forest\", \"XG Boost\", \"KNN\"]\n",
    "y = [0.8087,0.9297,0.9268,0.8386]\n",
    "plt.barh(x, y,color='#ff6361')\n",
    "plt.xlabel('Models')\n",
    "plt.ylabel('F1 Score')\n",
    "for index, value in enumerate(y):\n",
    "    plt.text(value,index, str(value))"
   ]
  },
  {
   "cell_type": "raw",
   "metadata": {},
   "source": []
  }
 ],
 "metadata": {
  "kernelspec": {
   "display_name": "Python 3",
   "language": "python",
   "name": "python3"
  },
  "language_info": {
   "codemirror_mode": {
    "name": "ipython",
    "version": 3
   },
   "file_extension": ".py",
   "mimetype": "text/x-python",
   "name": "python",
   "nbconvert_exporter": "python",
   "pygments_lexer": "ipython3",
   "version": "3.7.6"
  }
 },
 "nbformat": 4,
 "nbformat_minor": 4
}
